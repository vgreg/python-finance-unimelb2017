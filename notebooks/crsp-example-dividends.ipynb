{
 "cells": [
  {
   "cell_type": "markdown",
   "metadata": {
    "deletable": true,
    "editable": true
   },
   "source": [
    "# Abnormal returns around dividends.\n",
    "\n",
    "Prepared by [Vincent Grégoire](http://www.vincentgregoire.com), Department of Finance, The University of Melbourne. \n",
    "\n",
    "This is a sample code to illustrate how to load and analyse CRSP data in Python.\n",
    "This notebook was created as supplemental material to a Python for financial research bootcamp for finance honours and PhD students at the University of Melbourne in March of 2017.\n",
    "\n",
    "Last update: March 24, 2017.\n",
    "\n",
    "**Contact**: <vincent.gregoire@unimelb.edu.au>\n",
    "\n",
    "Latest version: <http://www.vincentgregoire.com/python-bootcamp/>\n"
   ]
  },
  {
   "cell_type": "code",
   "execution_count": 1,
   "metadata": {
    "collapsed": true,
    "deletable": true,
    "editable": true
   },
   "outputs": [],
   "source": [
    "%matplotlib inline\n",
    "\n",
    "import pandas as pd\n",
    "import numpy as np\n",
    "import matplotlib\n",
    "import matplotlib.pyplot as plt\n",
    "from datetime import datetime"
   ]
  },
  {
   "cell_type": "markdown",
   "metadata": {
    "deletable": true,
    "editable": true
   },
   "source": [
    "I have downloaded form WRDS, in .csv format, 10 years worth of stock data (daily), plus dividend events from the events file."
   ]
  },
  {
   "cell_type": "code",
   "execution_count": 2,
   "metadata": {
    "collapsed": true,
    "deletable": true,
    "editable": true
   },
   "outputs": [],
   "source": [
    "# Let's first look at dividends\n",
    "dividends_df = pd.read_csv('data/dividends.csv.gz')\n",
    "\n",
    "# I prefer to use lower case column names\n",
    "dividends_df.columns = [x.lower() for x in dividends_df]"
   ]
  },
  {
   "cell_type": "code",
   "execution_count": 3,
   "metadata": {
    "collapsed": false,
    "deletable": true,
    "editable": true
   },
   "outputs": [
    {
     "data": {
      "text/html": [
       "<div>\n",
       "<table border=\"1\" class=\"dataframe\">\n",
       "  <thead>\n",
       "    <tr style=\"text-align: right;\">\n",
       "      <th></th>\n",
       "      <th>permno</th>\n",
       "      <th>distcd</th>\n",
       "      <th>divamt</th>\n",
       "      <th>facpr</th>\n",
       "      <th>facshr</th>\n",
       "      <th>dclrdt</th>\n",
       "      <th>exdt</th>\n",
       "      <th>rcrddt</th>\n",
       "      <th>paydt</th>\n",
       "    </tr>\n",
       "  </thead>\n",
       "  <tbody>\n",
       "    <tr>\n",
       "      <th>0</th>\n",
       "      <td>10000</td>\n",
       "      <td>NaN</td>\n",
       "      <td>NaN</td>\n",
       "      <td>NaN</td>\n",
       "      <td>NaN</td>\n",
       "      <td>NaN</td>\n",
       "      <td>NaN</td>\n",
       "      <td>NaN</td>\n",
       "      <td>NaN</td>\n",
       "    </tr>\n",
       "    <tr>\n",
       "      <th>1</th>\n",
       "      <td>10001</td>\n",
       "      <td>1232.0</td>\n",
       "      <td>0.14</td>\n",
       "      <td>0.0</td>\n",
       "      <td>0.0</td>\n",
       "      <td>20061204.0</td>\n",
       "      <td>20070213.0</td>\n",
       "      <td>20070215.0</td>\n",
       "      <td>20070228.0</td>\n",
       "    </tr>\n",
       "    <tr>\n",
       "      <th>2</th>\n",
       "      <td>10001</td>\n",
       "      <td>1232.0</td>\n",
       "      <td>0.15</td>\n",
       "      <td>0.0</td>\n",
       "      <td>0.0</td>\n",
       "      <td>20070426.0</td>\n",
       "      <td>20070503.0</td>\n",
       "      <td>20070507.0</td>\n",
       "      <td>20070517.0</td>\n",
       "    </tr>\n",
       "    <tr>\n",
       "      <th>3</th>\n",
       "      <td>10001</td>\n",
       "      <td>1232.0</td>\n",
       "      <td>0.16</td>\n",
       "      <td>0.0</td>\n",
       "      <td>0.0</td>\n",
       "      <td>20070830.0</td>\n",
       "      <td>20070907.0</td>\n",
       "      <td>20070911.0</td>\n",
       "      <td>20070925.0</td>\n",
       "    </tr>\n",
       "    <tr>\n",
       "      <th>4</th>\n",
       "      <td>10001</td>\n",
       "      <td>1232.0</td>\n",
       "      <td>0.16</td>\n",
       "      <td>0.0</td>\n",
       "      <td>0.0</td>\n",
       "      <td>20071024.0</td>\n",
       "      <td>20071101.0</td>\n",
       "      <td>20071105.0</td>\n",
       "      <td>20071119.0</td>\n",
       "    </tr>\n",
       "  </tbody>\n",
       "</table>\n",
       "</div>"
      ],
      "text/plain": [
       "   permno  distcd  divamt  facpr  facshr      dclrdt        exdt      rcrddt  \\\n",
       "0   10000     NaN     NaN    NaN     NaN         NaN         NaN         NaN   \n",
       "1   10001  1232.0    0.14    0.0     0.0  20061204.0  20070213.0  20070215.0   \n",
       "2   10001  1232.0    0.15    0.0     0.0  20070426.0  20070503.0  20070507.0   \n",
       "3   10001  1232.0    0.16    0.0     0.0  20070830.0  20070907.0  20070911.0   \n",
       "4   10001  1232.0    0.16    0.0     0.0  20071024.0  20071101.0  20071105.0   \n",
       "\n",
       "        paydt  \n",
       "0         NaN  \n",
       "1  20070228.0  \n",
       "2  20070517.0  \n",
       "3  20070925.0  \n",
       "4  20071119.0  "
      ]
     },
     "execution_count": 3,
     "metadata": {},
     "output_type": "execute_result"
    }
   ],
   "source": [
    "dividends_df.head(5)"
   ]
  },
  {
   "cell_type": "markdown",
   "metadata": {
    "deletable": true,
    "editable": true
   },
   "source": [
    "Looking at the data, we see there are some missing entries, we want to clean those. Also, CRSP stores dates in a YYYYMMDD numerical format that pandas detects as numbers, so we want to convert those as well."
   ]
  },
  {
   "cell_type": "code",
   "execution_count": 4,
   "metadata": {
    "collapsed": false,
    "deletable": true,
    "editable": true
   },
   "outputs": [
    {
     "data": {
      "text/html": [
       "<div>\n",
       "<table border=\"1\" class=\"dataframe\">\n",
       "  <thead>\n",
       "    <tr style=\"text-align: right;\">\n",
       "      <th></th>\n",
       "      <th>permno</th>\n",
       "      <th>distcd</th>\n",
       "      <th>divamt</th>\n",
       "      <th>facpr</th>\n",
       "      <th>facshr</th>\n",
       "      <th>dclrdt</th>\n",
       "      <th>exdt</th>\n",
       "      <th>rcrddt</th>\n",
       "      <th>paydt</th>\n",
       "    </tr>\n",
       "  </thead>\n",
       "  <tbody>\n",
       "    <tr>\n",
       "      <th>1</th>\n",
       "      <td>10001</td>\n",
       "      <td>1232.0</td>\n",
       "      <td>0.140</td>\n",
       "      <td>0.0</td>\n",
       "      <td>0.0</td>\n",
       "      <td>20061204.0</td>\n",
       "      <td>20070213.0</td>\n",
       "      <td>20070215.0</td>\n",
       "      <td>20070228.0</td>\n",
       "    </tr>\n",
       "    <tr>\n",
       "      <th>2</th>\n",
       "      <td>10001</td>\n",
       "      <td>1232.0</td>\n",
       "      <td>0.150</td>\n",
       "      <td>0.0</td>\n",
       "      <td>0.0</td>\n",
       "      <td>20070426.0</td>\n",
       "      <td>20070503.0</td>\n",
       "      <td>20070507.0</td>\n",
       "      <td>20070517.0</td>\n",
       "    </tr>\n",
       "    <tr>\n",
       "      <th>3</th>\n",
       "      <td>10001</td>\n",
       "      <td>1232.0</td>\n",
       "      <td>0.160</td>\n",
       "      <td>0.0</td>\n",
       "      <td>0.0</td>\n",
       "      <td>20070830.0</td>\n",
       "      <td>20070907.0</td>\n",
       "      <td>20070911.0</td>\n",
       "      <td>20070925.0</td>\n",
       "    </tr>\n",
       "    <tr>\n",
       "      <th>4</th>\n",
       "      <td>10001</td>\n",
       "      <td>1232.0</td>\n",
       "      <td>0.160</td>\n",
       "      <td>0.0</td>\n",
       "      <td>0.0</td>\n",
       "      <td>20071024.0</td>\n",
       "      <td>20071101.0</td>\n",
       "      <td>20071105.0</td>\n",
       "      <td>20071119.0</td>\n",
       "    </tr>\n",
       "    <tr>\n",
       "      <th>5</th>\n",
       "      <td>10001</td>\n",
       "      <td>1222.0</td>\n",
       "      <td>0.054</td>\n",
       "      <td>0.0</td>\n",
       "      <td>0.0</td>\n",
       "      <td>20071129.0</td>\n",
       "      <td>20071206.0</td>\n",
       "      <td>20071210.0</td>\n",
       "      <td>20071228.0</td>\n",
       "    </tr>\n",
       "  </tbody>\n",
       "</table>\n",
       "</div>"
      ],
      "text/plain": [
       "   permno  distcd  divamt  facpr  facshr      dclrdt        exdt      rcrddt  \\\n",
       "1   10001  1232.0   0.140    0.0     0.0  20061204.0  20070213.0  20070215.0   \n",
       "2   10001  1232.0   0.150    0.0     0.0  20070426.0  20070503.0  20070507.0   \n",
       "3   10001  1232.0   0.160    0.0     0.0  20070830.0  20070907.0  20070911.0   \n",
       "4   10001  1232.0   0.160    0.0     0.0  20071024.0  20071101.0  20071105.0   \n",
       "5   10001  1222.0   0.054    0.0     0.0  20071129.0  20071206.0  20071210.0   \n",
       "\n",
       "        paydt  \n",
       "1  20070228.0  \n",
       "2  20070517.0  \n",
       "3  20070925.0  \n",
       "4  20071119.0  \n",
       "5  20071228.0  "
      ]
     },
     "execution_count": 4,
     "metadata": {},
     "output_type": "execute_result"
    }
   ],
   "source": [
    "# First drop those missing values\n",
    "\n",
    "# Find rows with any misssing value\n",
    "missing = dividends_df.isnull().any(axis=1)\n",
    "# Drop them from or data\n",
    "if sum(missing) > 0:\n",
    "    dividends_df = dividends_df[~missing].copy()\n",
    "dividends_df.head()"
   ]
  },
  {
   "cell_type": "code",
   "execution_count": 5,
   "metadata": {
    "collapsed": false,
    "deletable": true,
    "editable": true
   },
   "outputs": [],
   "source": [
    "# We first need to define a function to convert the dates.\n",
    "def compute_date_crsp(int_date):\n",
    "    if np.isnan(int_date):\n",
    "        return int_date\n",
    "    int_date = int(int_date)\n",
    "    year = int_date//10000\n",
    "    month = int_date//100 - year*100\n",
    "    day = int_date - month*100 - year*10000\n",
    "    return datetime(year, month, day)"
   ]
  },
  {
   "cell_type": "code",
   "execution_count": 6,
   "metadata": {
    "collapsed": false,
    "deletable": true,
    "editable": true
   },
   "outputs": [],
   "source": [
    "dividends_df['dclrdt'] = dividends_df['dclrdt'].apply(lambda x: compute_date_crsp(x))\n",
    "dividends_df['exdt'] = dividends_df['exdt'].apply(lambda x: compute_date_crsp(x))\n",
    "dividends_df['rcrddt'] = dividends_df['rcrddt'].apply(lambda x: compute_date_crsp(x))\n",
    "dividends_df['paydt'] = dividends_df['paydt'].apply(lambda x: compute_date_crsp(x))"
   ]
  },
  {
   "cell_type": "code",
   "execution_count": 7,
   "metadata": {
    "collapsed": false,
    "deletable": true,
    "editable": true
   },
   "outputs": [
    {
     "data": {
      "text/html": [
       "<div>\n",
       "<table border=\"1\" class=\"dataframe\">\n",
       "  <thead>\n",
       "    <tr style=\"text-align: right;\">\n",
       "      <th></th>\n",
       "      <th>permno</th>\n",
       "      <th>distcd</th>\n",
       "      <th>divamt</th>\n",
       "      <th>facpr</th>\n",
       "      <th>facshr</th>\n",
       "      <th>dclrdt</th>\n",
       "      <th>exdt</th>\n",
       "      <th>rcrddt</th>\n",
       "      <th>paydt</th>\n",
       "    </tr>\n",
       "  </thead>\n",
       "  <tbody>\n",
       "    <tr>\n",
       "      <th>1</th>\n",
       "      <td>10001</td>\n",
       "      <td>1232.0</td>\n",
       "      <td>0.140</td>\n",
       "      <td>0.0</td>\n",
       "      <td>0.0</td>\n",
       "      <td>2006-12-04</td>\n",
       "      <td>2007-02-13</td>\n",
       "      <td>2007-02-15</td>\n",
       "      <td>2007-02-28</td>\n",
       "    </tr>\n",
       "    <tr>\n",
       "      <th>2</th>\n",
       "      <td>10001</td>\n",
       "      <td>1232.0</td>\n",
       "      <td>0.150</td>\n",
       "      <td>0.0</td>\n",
       "      <td>0.0</td>\n",
       "      <td>2007-04-26</td>\n",
       "      <td>2007-05-03</td>\n",
       "      <td>2007-05-07</td>\n",
       "      <td>2007-05-17</td>\n",
       "    </tr>\n",
       "    <tr>\n",
       "      <th>3</th>\n",
       "      <td>10001</td>\n",
       "      <td>1232.0</td>\n",
       "      <td>0.160</td>\n",
       "      <td>0.0</td>\n",
       "      <td>0.0</td>\n",
       "      <td>2007-08-30</td>\n",
       "      <td>2007-09-07</td>\n",
       "      <td>2007-09-11</td>\n",
       "      <td>2007-09-25</td>\n",
       "    </tr>\n",
       "    <tr>\n",
       "      <th>4</th>\n",
       "      <td>10001</td>\n",
       "      <td>1232.0</td>\n",
       "      <td>0.160</td>\n",
       "      <td>0.0</td>\n",
       "      <td>0.0</td>\n",
       "      <td>2007-10-24</td>\n",
       "      <td>2007-11-01</td>\n",
       "      <td>2007-11-05</td>\n",
       "      <td>2007-11-19</td>\n",
       "    </tr>\n",
       "    <tr>\n",
       "      <th>5</th>\n",
       "      <td>10001</td>\n",
       "      <td>1222.0</td>\n",
       "      <td>0.054</td>\n",
       "      <td>0.0</td>\n",
       "      <td>0.0</td>\n",
       "      <td>2007-11-29</td>\n",
       "      <td>2007-12-06</td>\n",
       "      <td>2007-12-10</td>\n",
       "      <td>2007-12-28</td>\n",
       "    </tr>\n",
       "  </tbody>\n",
       "</table>\n",
       "</div>"
      ],
      "text/plain": [
       "   permno  distcd  divamt  facpr  facshr     dclrdt       exdt     rcrddt  \\\n",
       "1   10001  1232.0   0.140    0.0     0.0 2006-12-04 2007-02-13 2007-02-15   \n",
       "2   10001  1232.0   0.150    0.0     0.0 2007-04-26 2007-05-03 2007-05-07   \n",
       "3   10001  1232.0   0.160    0.0     0.0 2007-08-30 2007-09-07 2007-09-11   \n",
       "4   10001  1232.0   0.160    0.0     0.0 2007-10-24 2007-11-01 2007-11-05   \n",
       "5   10001  1222.0   0.054    0.0     0.0 2007-11-29 2007-12-06 2007-12-10   \n",
       "\n",
       "       paydt  \n",
       "1 2007-02-28  \n",
       "2 2007-05-17  \n",
       "3 2007-09-25  \n",
       "4 2007-11-19  \n",
       "5 2007-12-28  "
      ]
     },
     "execution_count": 7,
     "metadata": {},
     "output_type": "execute_result"
    }
   ],
   "source": [
    "dividends_df.head()"
   ]
  },
  {
   "cell_type": "markdown",
   "metadata": {
    "deletable": true,
    "editable": true
   },
   "source": [
    "We usually care about the ex-dividend date. Let's see what's the seasonal distribution. We can plot the numbers of annoucements per month of the year. We would expect a quarterly and an annual pattern"
   ]
  },
  {
   "cell_type": "code",
   "execution_count": 8,
   "metadata": {
    "collapsed": false,
    "deletable": true,
    "editable": true
   },
   "outputs": [
    {
     "data": {
      "text/plain": [
       "<matplotlib.text.Text at 0x1124d50d0>"
      ]
     },
     "execution_count": 8,
     "metadata": {},
     "output_type": "execute_result"
    },
    {
     "data": {
      "image/png": "[encoded data removed]",
      "text/plain": [
       "<matplotlib.figure.Figure at 0x112229310>"
      ]
     },
     "metadata": {},
     "output_type": "display_data"
    }
   ],
   "source": [
    "dividends_df.groupby(dividends_df['exdt'].dt.month)['divamt'].count().plot(kind='bar')\n",
    "plt.xlabel('Month')\n",
    "plt.ylabel('Number of dividends')\n",
    "plt.title('Seasonal distribution of ex-dividend dates')"
   ]
  },
  {
   "cell_type": "code",
   "execution_count": 9,
   "metadata": {
    "collapsed": false,
    "deletable": true,
    "editable": true
   },
   "outputs": [
    {
     "data": {
      "text/html": [
       "<div>\n",
       "<table border=\"1\" class=\"dataframe\">\n",
       "  <thead>\n",
       "    <tr style=\"text-align: right;\">\n",
       "      <th></th>\n",
       "      <th>permno</th>\n",
       "      <th>distcd</th>\n",
       "      <th>divamt</th>\n",
       "      <th>facpr</th>\n",
       "      <th>facshr</th>\n",
       "    </tr>\n",
       "  </thead>\n",
       "  <tbody>\n",
       "    <tr>\n",
       "      <th>count</th>\n",
       "      <td>179765.000000</td>\n",
       "      <td>179765.000000</td>\n",
       "      <td>179765.000000</td>\n",
       "      <td>179765.0</td>\n",
       "      <td>179765.0</td>\n",
       "    </tr>\n",
       "    <tr>\n",
       "      <th>mean</th>\n",
       "      <td>70077.165983</td>\n",
       "      <td>1229.702373</td>\n",
       "      <td>0.202402</td>\n",
       "      <td>0.0</td>\n",
       "      <td>0.0</td>\n",
       "    </tr>\n",
       "    <tr>\n",
       "      <th>std</th>\n",
       "      <td>28807.987154</td>\n",
       "      <td>13.158827</td>\n",
       "      <td>0.836218</td>\n",
       "      <td>0.0</td>\n",
       "      <td>0.0</td>\n",
       "    </tr>\n",
       "    <tr>\n",
       "      <th>min</th>\n",
       "      <td>10001.000000</td>\n",
       "      <td>1212.000000</td>\n",
       "      <td>0.000000</td>\n",
       "      <td>0.0</td>\n",
       "      <td>0.0</td>\n",
       "    </tr>\n",
       "    <tr>\n",
       "      <th>25%</th>\n",
       "      <td>60098.000000</td>\n",
       "      <td>1222.000000</td>\n",
       "      <td>0.060500</td>\n",
       "      <td>0.0</td>\n",
       "      <td>0.0</td>\n",
       "    </tr>\n",
       "    <tr>\n",
       "      <th>50%</th>\n",
       "      <td>85082.000000</td>\n",
       "      <td>1232.000000</td>\n",
       "      <td>0.104500</td>\n",
       "      <td>0.0</td>\n",
       "      <td>0.0</td>\n",
       "    </tr>\n",
       "    <tr>\n",
       "      <th>75%</th>\n",
       "      <td>90108.000000</td>\n",
       "      <td>1232.000000</td>\n",
       "      <td>0.230000</td>\n",
       "      <td>0.0</td>\n",
       "      <td>0.0</td>\n",
       "    </tr>\n",
       "    <tr>\n",
       "      <th>max</th>\n",
       "      <td>93429.000000</td>\n",
       "      <td>1392.000000</td>\n",
       "      <td>235.000000</td>\n",
       "      <td>0.0</td>\n",
       "      <td>0.0</td>\n",
       "    </tr>\n",
       "  </tbody>\n",
       "</table>\n",
       "</div>"
      ],
      "text/plain": [
       "              permno         distcd         divamt     facpr    facshr\n",
       "count  179765.000000  179765.000000  179765.000000  179765.0  179765.0\n",
       "mean    70077.165983    1229.702373       0.202402       0.0       0.0\n",
       "std     28807.987154      13.158827       0.836218       0.0       0.0\n",
       "min     10001.000000    1212.000000       0.000000       0.0       0.0\n",
       "25%     60098.000000    1222.000000       0.060500       0.0       0.0\n",
       "50%     85082.000000    1232.000000       0.104500       0.0       0.0\n",
       "75%     90108.000000    1232.000000       0.230000       0.0       0.0\n",
       "max     93429.000000    1392.000000     235.000000       0.0       0.0"
      ]
     },
     "execution_count": 9,
     "metadata": {},
     "output_type": "execute_result"
    }
   ],
   "source": [
    "dividends_df.describe()"
   ]
  },
  {
   "cell_type": "code",
   "execution_count": 10,
   "metadata": {
    "collapsed": false
   },
   "outputs": [
    {
     "data": {
      "text/html": [
       "<div>\n",
       "<table border=\"1\" class=\"dataframe\">\n",
       "  <thead>\n",
       "    <tr style=\"text-align: right;\">\n",
       "      <th></th>\n",
       "      <th>permno</th>\n",
       "      <th>distcd</th>\n",
       "      <th>divamt</th>\n",
       "      <th>facpr</th>\n",
       "      <th>facshr</th>\n",
       "    </tr>\n",
       "  </thead>\n",
       "  <tbody>\n",
       "    <tr>\n",
       "      <th>count</th>\n",
       "      <td>179763.000000</td>\n",
       "      <td>179763.000000</td>\n",
       "      <td>179763.000000</td>\n",
       "      <td>179763.0</td>\n",
       "      <td>179763.0</td>\n",
       "    </tr>\n",
       "    <tr>\n",
       "      <th>mean</th>\n",
       "      <td>70076.987689</td>\n",
       "      <td>1229.702236</td>\n",
       "      <td>0.202405</td>\n",
       "      <td>0.0</td>\n",
       "      <td>0.0</td>\n",
       "    </tr>\n",
       "    <tr>\n",
       "      <th>std</th>\n",
       "      <td>28808.087901</td>\n",
       "      <td>13.158455</td>\n",
       "      <td>0.836222</td>\n",
       "      <td>0.0</td>\n",
       "      <td>0.0</td>\n",
       "    </tr>\n",
       "    <tr>\n",
       "      <th>min</th>\n",
       "      <td>10001.000000</td>\n",
       "      <td>1212.000000</td>\n",
       "      <td>0.000020</td>\n",
       "      <td>0.0</td>\n",
       "      <td>0.0</td>\n",
       "    </tr>\n",
       "    <tr>\n",
       "      <th>25%</th>\n",
       "      <td>60098.000000</td>\n",
       "      <td>1222.000000</td>\n",
       "      <td>0.060500</td>\n",
       "      <td>0.0</td>\n",
       "      <td>0.0</td>\n",
       "    </tr>\n",
       "    <tr>\n",
       "      <th>50%</th>\n",
       "      <td>85082.000000</td>\n",
       "      <td>1232.000000</td>\n",
       "      <td>0.104500</td>\n",
       "      <td>0.0</td>\n",
       "      <td>0.0</td>\n",
       "    </tr>\n",
       "    <tr>\n",
       "      <th>75%</th>\n",
       "      <td>90108.000000</td>\n",
       "      <td>1232.000000</td>\n",
       "      <td>0.230000</td>\n",
       "      <td>0.0</td>\n",
       "      <td>0.0</td>\n",
       "    </tr>\n",
       "    <tr>\n",
       "      <th>max</th>\n",
       "      <td>93429.000000</td>\n",
       "      <td>1392.000000</td>\n",
       "      <td>235.000000</td>\n",
       "      <td>0.0</td>\n",
       "      <td>0.0</td>\n",
       "    </tr>\n",
       "  </tbody>\n",
       "</table>\n",
       "</div>"
      ],
      "text/plain": [
       "              permno         distcd         divamt     facpr    facshr\n",
       "count  179763.000000  179763.000000  179763.000000  179763.0  179763.0\n",
       "mean    70076.987689    1229.702236       0.202405       0.0       0.0\n",
       "std     28808.087901      13.158455       0.836222       0.0       0.0\n",
       "min     10001.000000    1212.000000       0.000020       0.0       0.0\n",
       "25%     60098.000000    1222.000000       0.060500       0.0       0.0\n",
       "50%     85082.000000    1232.000000       0.104500       0.0       0.0\n",
       "75%     90108.000000    1232.000000       0.230000       0.0       0.0\n",
       "max     93429.000000    1392.000000     235.000000       0.0       0.0"
      ]
     },
     "execution_count": 10,
     "metadata": {},
     "output_type": "execute_result"
    }
   ],
   "source": [
    "# We have a few $0.00 dividends, so we'll throw those out.\n",
    "dividends_df = dividends_df[dividends_df.divamt > 0.0].copy()\n",
    "dividends_df.describe()"
   ]
  },
  {
   "cell_type": "code",
   "execution_count": 11,
   "metadata": {
    "collapsed": false,
    "deletable": true,
    "editable": true
   },
   "outputs": [
    {
     "data": {
      "text/html": [
       "<div>\n",
       "<table border=\"1\" class=\"dataframe\">\n",
       "  <thead>\n",
       "    <tr style=\"text-align: right;\">\n",
       "      <th></th>\n",
       "      <th>PERMNO</th>\n",
       "      <th>date</th>\n",
       "      <th>SHRCD</th>\n",
       "      <th>EXCHCD</th>\n",
       "      <th>PERMCO</th>\n",
       "      <th>DLRETX</th>\n",
       "      <th>DLRET</th>\n",
       "      <th>PRC</th>\n",
       "      <th>VOL</th>\n",
       "      <th>RET</th>\n",
       "      <th>SHROUT</th>\n",
       "      <th>NUMTRD</th>\n",
       "      <th>RETX</th>\n",
       "      <th>vwretd</th>\n",
       "      <th>vwretx</th>\n",
       "    </tr>\n",
       "  </thead>\n",
       "  <tbody>\n",
       "    <tr>\n",
       "      <th>0</th>\n",
       "      <td>10001</td>\n",
       "      <td>01/03/2007</td>\n",
       "      <td>11</td>\n",
       "      <td>3</td>\n",
       "      <td>7953</td>\n",
       "      <td>NaN</td>\n",
       "      <td>NaN</td>\n",
       "      <td>11.100</td>\n",
       "      <td>4311</td>\n",
       "      <td>0.000000</td>\n",
       "      <td>2959</td>\n",
       "      <td>21</td>\n",
       "      <td>0.000000</td>\n",
       "      <td>-0.001347</td>\n",
       "      <td>-0.001511</td>\n",
       "    </tr>\n",
       "    <tr>\n",
       "      <th>1</th>\n",
       "      <td>10001</td>\n",
       "      <td>01/04/2007</td>\n",
       "      <td>11</td>\n",
       "      <td>3</td>\n",
       "      <td>7953</td>\n",
       "      <td>NaN</td>\n",
       "      <td>NaN</td>\n",
       "      <td>11.360</td>\n",
       "      <td>4600</td>\n",
       "      <td>0.023423</td>\n",
       "      <td>2959</td>\n",
       "      <td>30</td>\n",
       "      <td>0.023423</td>\n",
       "      <td>0.000547</td>\n",
       "      <td>0.000544</td>\n",
       "    </tr>\n",
       "    <tr>\n",
       "      <th>2</th>\n",
       "      <td>10001</td>\n",
       "      <td>01/05/2007</td>\n",
       "      <td>11</td>\n",
       "      <td>3</td>\n",
       "      <td>7953</td>\n",
       "      <td>NaN</td>\n",
       "      <td>NaN</td>\n",
       "      <td>11.250</td>\n",
       "      <td>510</td>\n",
       "      <td>-0.009683</td>\n",
       "      <td>2959</td>\n",
       "      <td>4</td>\n",
       "      <td>-0.009683</td>\n",
       "      <td>-0.007288</td>\n",
       "      <td>-0.007293</td>\n",
       "    </tr>\n",
       "    <tr>\n",
       "      <th>3</th>\n",
       "      <td>10001</td>\n",
       "      <td>01/08/2007</td>\n",
       "      <td>11</td>\n",
       "      <td>3</td>\n",
       "      <td>7953</td>\n",
       "      <td>NaN</td>\n",
       "      <td>NaN</td>\n",
       "      <td>-11.345</td>\n",
       "      <td>0</td>\n",
       "      <td>0.008444</td>\n",
       "      <td>2959</td>\n",
       "      <td>0</td>\n",
       "      <td>0.008444</td>\n",
       "      <td>0.002567</td>\n",
       "      <td>0.002354</td>\n",
       "    </tr>\n",
       "    <tr>\n",
       "      <th>4</th>\n",
       "      <td>10001</td>\n",
       "      <td>01/09/2007</td>\n",
       "      <td>11</td>\n",
       "      <td>3</td>\n",
       "      <td>7953</td>\n",
       "      <td>NaN</td>\n",
       "      <td>NaN</td>\n",
       "      <td>11.240</td>\n",
       "      <td>600</td>\n",
       "      <td>-0.009255</td>\n",
       "      <td>2959</td>\n",
       "      <td>6</td>\n",
       "      <td>-0.009255</td>\n",
       "      <td>-0.000001</td>\n",
       "      <td>-0.000001</td>\n",
       "    </tr>\n",
       "  </tbody>\n",
       "</table>\n",
       "</div>"
      ],
      "text/plain": [
       "   PERMNO        date  SHRCD  EXCHCD  PERMCO  DLRETX  DLRET     PRC   VOL  \\\n",
       "0   10001  01/03/2007     11       3    7953     NaN    NaN  11.100  4311   \n",
       "1   10001  01/04/2007     11       3    7953     NaN    NaN  11.360  4600   \n",
       "2   10001  01/05/2007     11       3    7953     NaN    NaN  11.250   510   \n",
       "3   10001  01/08/2007     11       3    7953     NaN    NaN -11.345     0   \n",
       "4   10001  01/09/2007     11       3    7953     NaN    NaN  11.240   600   \n",
       "\n",
       "        RET  SHROUT  NUMTRD      RETX    vwretd    vwretx  \n",
       "0  0.000000    2959      21  0.000000 -0.001347 -0.001511  \n",
       "1  0.023423    2959      30  0.023423  0.000547  0.000544  \n",
       "2 -0.009683    2959       4 -0.009683 -0.007288 -0.007293  \n",
       "3  0.008444    2959       0  0.008444  0.002567  0.002354  \n",
       "4 -0.009255    2959       6 -0.009255 -0.000001 -0.000001  "
      ]
     },
     "execution_count": 11,
     "metadata": {},
     "output_type": "execute_result"
    }
   ],
   "source": [
    "# Let's now look at our stock returns. Since it's a large dataset,\n",
    "# we begin by loading a small subsample.\n",
    "dsf_df = pd.read_csv('data/crsp_dsf.csv.gz',\n",
    "                     na_values=['B', 'C'], nrows=100)\n",
    "dsf_df.head()"
   ]
  },
  {
   "cell_type": "code",
   "execution_count": 12,
   "metadata": {
    "collapsed": false,
    "deletable": true,
    "editable": true
   },
   "outputs": [],
   "source": [
    "# Note that CRSP data sometimes has letter codes for special situations. \n",
    "# We discard them here ('A', 'B', 'C', 'S', 'T'),\n",
    "# but you might want to have a look at the documentation before you do in your\n",
    "# projects, they are there for a reason.\n",
    "\n",
    "\n",
    "# We only want a subset of the columns, specifying them will make loading faster.\n",
    "cols = [u'PERMNO', u'date', u'SHRCD', u'EXCHCD', u'DLRETX', u'DLRET',\n",
    "        u'PRC', u'VOL', u'RET', u'SHROUT', u'RETX', u'vwretd']\n",
    "\n",
    "dsf_df = pd.read_csv('data/crsp_dsf.csv.gz',\n",
    "                     usecols=cols,\n",
    "                     na_values=['A', 'B', 'C', 'S', 'T'])\n",
    "dsf_df.columns = [x.lower() for x in dsf_df]"
   ]
  },
  {
   "cell_type": "code",
   "execution_count": 13,
   "metadata": {
    "collapsed": false,
    "deletable": true,
    "editable": true
   },
   "outputs": [
    {
     "data": {
      "text/plain": [
       "17350200"
      ]
     },
     "execution_count": 13,
     "metadata": {},
     "output_type": "execute_result"
    }
   ],
   "source": [
    "len(dsf_df)"
   ]
  },
  {
   "cell_type": "code",
   "execution_count": 14,
   "metadata": {
    "collapsed": false,
    "deletable": true,
    "editable": true
   },
   "outputs": [
    {
     "data": {
      "text/html": [
       "<div>\n",
       "<table border=\"1\" class=\"dataframe\">\n",
       "  <thead>\n",
       "    <tr style=\"text-align: right;\">\n",
       "      <th></th>\n",
       "      <th>permno</th>\n",
       "      <th>date</th>\n",
       "      <th>shrcd</th>\n",
       "      <th>exchcd</th>\n",
       "      <th>dlretx</th>\n",
       "      <th>dlret</th>\n",
       "      <th>prc</th>\n",
       "      <th>vol</th>\n",
       "      <th>ret</th>\n",
       "      <th>shrout</th>\n",
       "      <th>retx</th>\n",
       "      <th>vwretd</th>\n",
       "    </tr>\n",
       "  </thead>\n",
       "  <tbody>\n",
       "    <tr>\n",
       "      <th>0</th>\n",
       "      <td>10001</td>\n",
       "      <td>01/03/2007</td>\n",
       "      <td>11.0</td>\n",
       "      <td>3.0</td>\n",
       "      <td>NaN</td>\n",
       "      <td>NaN</td>\n",
       "      <td>11.100</td>\n",
       "      <td>4311.0</td>\n",
       "      <td>0.000000</td>\n",
       "      <td>2959.0</td>\n",
       "      <td>0.000000</td>\n",
       "      <td>-0.001347</td>\n",
       "    </tr>\n",
       "    <tr>\n",
       "      <th>1</th>\n",
       "      <td>10001</td>\n",
       "      <td>01/04/2007</td>\n",
       "      <td>11.0</td>\n",
       "      <td>3.0</td>\n",
       "      <td>NaN</td>\n",
       "      <td>NaN</td>\n",
       "      <td>11.360</td>\n",
       "      <td>4600.0</td>\n",
       "      <td>0.023423</td>\n",
       "      <td>2959.0</td>\n",
       "      <td>0.023423</td>\n",
       "      <td>0.000547</td>\n",
       "    </tr>\n",
       "    <tr>\n",
       "      <th>2</th>\n",
       "      <td>10001</td>\n",
       "      <td>01/05/2007</td>\n",
       "      <td>11.0</td>\n",
       "      <td>3.0</td>\n",
       "      <td>NaN</td>\n",
       "      <td>NaN</td>\n",
       "      <td>11.250</td>\n",
       "      <td>510.0</td>\n",
       "      <td>-0.009683</td>\n",
       "      <td>2959.0</td>\n",
       "      <td>-0.009683</td>\n",
       "      <td>-0.007288</td>\n",
       "    </tr>\n",
       "    <tr>\n",
       "      <th>3</th>\n",
       "      <td>10001</td>\n",
       "      <td>01/08/2007</td>\n",
       "      <td>11.0</td>\n",
       "      <td>3.0</td>\n",
       "      <td>NaN</td>\n",
       "      <td>NaN</td>\n",
       "      <td>-11.345</td>\n",
       "      <td>0.0</td>\n",
       "      <td>0.008444</td>\n",
       "      <td>2959.0</td>\n",
       "      <td>0.008444</td>\n",
       "      <td>0.002567</td>\n",
       "    </tr>\n",
       "    <tr>\n",
       "      <th>4</th>\n",
       "      <td>10001</td>\n",
       "      <td>01/09/2007</td>\n",
       "      <td>11.0</td>\n",
       "      <td>3.0</td>\n",
       "      <td>NaN</td>\n",
       "      <td>NaN</td>\n",
       "      <td>11.240</td>\n",
       "      <td>600.0</td>\n",
       "      <td>-0.009255</td>\n",
       "      <td>2959.0</td>\n",
       "      <td>-0.009255</td>\n",
       "      <td>-0.000001</td>\n",
       "    </tr>\n",
       "  </tbody>\n",
       "</table>\n",
       "</div>"
      ],
      "text/plain": [
       "   permno        date  shrcd  exchcd  dlretx  dlret     prc     vol       ret  \\\n",
       "0   10001  01/03/2007   11.0     3.0     NaN    NaN  11.100  4311.0  0.000000   \n",
       "1   10001  01/04/2007   11.0     3.0     NaN    NaN  11.360  4600.0  0.023423   \n",
       "2   10001  01/05/2007   11.0     3.0     NaN    NaN  11.250   510.0 -0.009683   \n",
       "3   10001  01/08/2007   11.0     3.0     NaN    NaN -11.345     0.0  0.008444   \n",
       "4   10001  01/09/2007   11.0     3.0     NaN    NaN  11.240   600.0 -0.009255   \n",
       "\n",
       "   shrout      retx    vwretd  \n",
       "0  2959.0  0.000000 -0.001347  \n",
       "1  2959.0  0.023423  0.000547  \n",
       "2  2959.0 -0.009683 -0.007288  \n",
       "3  2959.0  0.008444  0.002567  \n",
       "4  2959.0 -0.009255 -0.000001  "
      ]
     },
     "execution_count": 14,
     "metadata": {},
     "output_type": "execute_result"
    }
   ],
   "source": [
    "dsf_df.head()"
   ]
  },
  {
   "cell_type": "code",
   "execution_count": 15,
   "metadata": {
    "collapsed": true,
    "deletable": true,
    "editable": true
   },
   "outputs": [],
   "source": [
    "# CRSP does a few other quirky things, such as having negative prices\n",
    "# to indicate when the closing price was not available. \n",
    "dsf_df['prc'] = np.abs(dsf_df['prc'])"
   ]
  },
  {
   "cell_type": "code",
   "execution_count": 16,
   "metadata": {
    "collapsed": false
   },
   "outputs": [],
   "source": [
    "# We also fill in delisting returns for missing returns when available.\n",
    "sel = dsf_df.ret.isnull()\n",
    "dsf_df.loc[sel, 'ret'] = dsf_df.loc[sel, 'dlret']\n",
    "sel = dsf_df.retx.isnull()\n",
    "dsf_df.loc[sel, 'retx'] = dsf_df.loc[sel, 'dlretx']"
   ]
  },
  {
   "cell_type": "code",
   "execution_count": 17,
   "metadata": {
    "collapsed": false
   },
   "outputs": [],
   "source": [
    "# And drop the returns that are still missing\n",
    "sel = dsf_df[['ret', 'retx']].isnull().any(axis=1)\n",
    "dsf_df = dsf_df[~sel].copy()"
   ]
  },
  {
   "cell_type": "code",
   "execution_count": 18,
   "metadata": {
    "collapsed": false
   },
   "outputs": [
    {
     "data": {
      "text/plain": [
       "array([ 11.,  14.,  73.,  12.,  31.,  18.,  71.,  75.,  44.,  74.,  48.,\n",
       "        21.,  72.,  15.,  10.,  41.])"
      ]
     },
     "execution_count": 18,
     "metadata": {},
     "output_type": "execute_result"
    }
   ],
   "source": [
    "# It is typical to only keep share codes 10 and 11 (common shares), and exchange 1, 2 and 3\n",
    "# (NYSE, Nasdaq and Amex/NYSE MKT/NYSE American)\n",
    "dsf_df.shrcd.unique()"
   ]
  },
  {
   "cell_type": "code",
   "execution_count": 19,
   "metadata": {
    "collapsed": true
   },
   "outputs": [],
   "source": [
    "dsf_df = dsf_df[dsf_df.shrcd.isin([10, 11])].copy()"
   ]
  },
  {
   "cell_type": "code",
   "execution_count": 20,
   "metadata": {
    "collapsed": false
   },
   "outputs": [
    {
     "data": {
      "text/plain": [
       "array([  3.,   2.,   1.,   4.,  32.,  33.])"
      ]
     },
     "execution_count": 20,
     "metadata": {},
     "output_type": "execute_result"
    }
   ],
   "source": [
    "dsf_df.exchcd.unique()"
   ]
  },
  {
   "cell_type": "code",
   "execution_count": 21,
   "metadata": {
    "collapsed": true
   },
   "outputs": [],
   "source": [
    "dsf_df = dsf_df[dsf_df.exchcd.isin([1, 2, 3])].copy()"
   ]
  },
  {
   "cell_type": "code",
   "execution_count": 22,
   "metadata": {
    "collapsed": false
   },
   "outputs": [
    {
     "name": "stdout",
     "output_type": "stream",
     "text": [
      "We are left with 10025682 observations with 6703 unique stocks.\n"
     ]
    }
   ],
   "source": [
    "print('We are left with ' + str(len(dsf_df)) + ' observations with ' +\n",
    "      str(dsf_df.permno.nunique()) + ' unique stocks.')"
   ]
  },
  {
   "cell_type": "markdown",
   "metadata": {},
   "source": [
    "We still need to parse dates. It's better to wait until we have filtered down the sample\n",
    "so that we have fewer dates to parse. We could parse the dates with `pd.to_datetime()`,\n",
    "but given the number of observations it will take a while (I'm not patient).\n",
    "\n",
    "I have developped a shortcut that works well with this type of data, where we have \n",
    "many observations of the same date (one for each stock). The trick is to first extract\n",
    "the list of unique dates, parse this short list, and then swap (using `map`) in the \n",
    "larger dataset."
   ]
  },
  {
   "cell_type": "code",
   "execution_count": 23,
   "metadata": {
    "collapsed": true
   },
   "outputs": [],
   "source": [
    "def parse_simple_date(d):\n",
    "    return datetime.strptime(d, '%m/%d/%Y')\n",
    "\n",
    "def fast_date_parse(df, col, date_parser=parse_simple_date):\n",
    "    dt = pd.DataFrame(df[col].unique())\n",
    "    dt.columns = [col + '_tmp']\n",
    "    dt[col] = dt[col + '_tmp'].apply(date_parser)\n",
    "    date_dict = dt.set_index(col + '_tmp').to_dict()\n",
    "    df[col] = df[col].map(date_dict[col])\n",
    "    return df"
   ]
  },
  {
   "cell_type": "code",
   "execution_count": 24,
   "metadata": {
    "collapsed": false
   },
   "outputs": [],
   "source": [
    "dsf_df = fast_date_parse(dsf_df, 'date')"
   ]
  },
  {
   "cell_type": "markdown",
   "metadata": {},
   "source": [
    "Now we have stock returns ready to go, and a file with dividend events. We want to match\n",
    "the two datasets, and get a window of 10 tradings days around the ex-dividend date.\n",
    "If we were doing this in SAS, we could put date ranges in our matching condition, but\n",
    "pandas doesn't allow that. What we can do is create our date range first, then match\n",
    "on specific dates.\n",
    "\n"
   ]
  },
  {
   "cell_type": "markdown",
   "metadata": {},
   "source": [
    "Pandas support business days (Mon-Fri) out of the box for creating date ranges, but we want to be more specific and use actual trading days, taking into account holidays and such. Pandas can do this very neatly, but in this case\n",
    "we don't need it, all the dates are in our `dsf` dataset, we just need to extract them."
   ]
  },
  {
   "cell_type": "code",
   "execution_count": 25,
   "metadata": {
    "collapsed": false
   },
   "outputs": [],
   "source": [
    "dates = pd.DataFrame(dsf_df.date.unique()).sort_values(0)\n",
    "dates.columns = ['date']"
   ]
  },
  {
   "cell_type": "code",
   "execution_count": 26,
   "metadata": {
    "collapsed": false
   },
   "outputs": [
    {
     "data": {
      "text/html": [
       "<div>\n",
       "<table border=\"1\" class=\"dataframe\">\n",
       "  <thead>\n",
       "    <tr style=\"text-align: right;\">\n",
       "      <th></th>\n",
       "      <th>date</th>\n",
       "    </tr>\n",
       "  </thead>\n",
       "  <tbody>\n",
       "    <tr>\n",
       "      <th>0</th>\n",
       "      <td>2007-01-03</td>\n",
       "    </tr>\n",
       "    <tr>\n",
       "      <th>1</th>\n",
       "      <td>2007-01-04</td>\n",
       "    </tr>\n",
       "    <tr>\n",
       "      <th>2</th>\n",
       "      <td>2007-01-05</td>\n",
       "    </tr>\n",
       "    <tr>\n",
       "      <th>3</th>\n",
       "      <td>2007-01-08</td>\n",
       "    </tr>\n",
       "    <tr>\n",
       "      <th>4</th>\n",
       "      <td>2007-01-09</td>\n",
       "    </tr>\n",
       "  </tbody>\n",
       "</table>\n",
       "</div>"
      ],
      "text/plain": [
       "        date\n",
       "0 2007-01-03\n",
       "1 2007-01-04\n",
       "2 2007-01-05\n",
       "3 2007-01-08\n",
       "4 2007-01-09"
      ]
     },
     "execution_count": 26,
     "metadata": {},
     "output_type": "execute_result"
    }
   ],
   "source": [
    "dates.head()"
   ]
  },
  {
   "cell_type": "code",
   "execution_count": 27,
   "metadata": {
    "collapsed": false
   },
   "outputs": [
    {
     "data": {
      "text/plain": [
       "2518"
      ]
     },
     "execution_count": 27,
     "metadata": {},
     "output_type": "execute_result"
    }
   ],
   "source": [
    "len(dates)"
   ]
  },
  {
   "cell_type": "code",
   "execution_count": 28,
   "metadata": {
    "collapsed": false
   },
   "outputs": [],
   "source": [
    "# Merging, we are creating a very large dataset\n",
    "\n",
    "dates['tmp'] = 1\n",
    "dates_cross = pd.merge(dates, dates, on=['tmp'],\n",
    "                       suffixes=('', '_obs'))"
   ]
  },
  {
   "cell_type": "code",
   "execution_count": 29,
   "metadata": {
    "collapsed": false
   },
   "outputs": [],
   "source": [
    "dates_cross['dateID'] = dates_cross.groupby('date')['tmp'].cumsum()\n",
    "\n",
    "# Set the ID of the date to 0. We first need to find the ID of the date, then\n",
    "# match and subtract.\n",
    "dates_0 = pd.merge(dates_cross,\n",
    "                   dates_cross.loc[dates_cross.date == dates_cross.date_obs,\n",
    "                                   ['date', 'dateID']],\n",
    "                   on=['date'],\n",
    "                   suffixes=('', '_0'))"
   ]
  },
  {
   "cell_type": "code",
   "execution_count": 30,
   "metadata": {
    "collapsed": false
   },
   "outputs": [],
   "source": [
    "dates_0['event_t'] = dates_0['dateID'] - dates_0['dateID_0'] "
   ]
  },
  {
   "cell_type": "code",
   "execution_count": 31,
   "metadata": {
    "collapsed": false
   },
   "outputs": [
    {
     "data": {
      "text/html": [
       "<div>\n",
       "<table border=\"1\" class=\"dataframe\">\n",
       "  <thead>\n",
       "    <tr style=\"text-align: right;\">\n",
       "      <th></th>\n",
       "      <th>date</th>\n",
       "      <th>tmp</th>\n",
       "      <th>date_obs</th>\n",
       "      <th>dateID</th>\n",
       "      <th>dateID_0</th>\n",
       "      <th>event_t</th>\n",
       "    </tr>\n",
       "  </thead>\n",
       "  <tbody>\n",
       "    <tr>\n",
       "      <th>0</th>\n",
       "      <td>2007-01-03</td>\n",
       "      <td>1</td>\n",
       "      <td>2007-01-03</td>\n",
       "      <td>1</td>\n",
       "      <td>1</td>\n",
       "      <td>0</td>\n",
       "    </tr>\n",
       "    <tr>\n",
       "      <th>1</th>\n",
       "      <td>2007-01-03</td>\n",
       "      <td>1</td>\n",
       "      <td>2007-01-04</td>\n",
       "      <td>2</td>\n",
       "      <td>1</td>\n",
       "      <td>1</td>\n",
       "    </tr>\n",
       "    <tr>\n",
       "      <th>2</th>\n",
       "      <td>2007-01-03</td>\n",
       "      <td>1</td>\n",
       "      <td>2007-01-05</td>\n",
       "      <td>3</td>\n",
       "      <td>1</td>\n",
       "      <td>2</td>\n",
       "    </tr>\n",
       "    <tr>\n",
       "      <th>3</th>\n",
       "      <td>2007-01-03</td>\n",
       "      <td>1</td>\n",
       "      <td>2007-01-08</td>\n",
       "      <td>4</td>\n",
       "      <td>1</td>\n",
       "      <td>3</td>\n",
       "    </tr>\n",
       "    <tr>\n",
       "      <th>4</th>\n",
       "      <td>2007-01-03</td>\n",
       "      <td>1</td>\n",
       "      <td>2007-01-09</td>\n",
       "      <td>5</td>\n",
       "      <td>1</td>\n",
       "      <td>4</td>\n",
       "    </tr>\n",
       "  </tbody>\n",
       "</table>\n",
       "</div>"
      ],
      "text/plain": [
       "        date  tmp   date_obs  dateID  dateID_0  event_t\n",
       "0 2007-01-03    1 2007-01-03       1         1        0\n",
       "1 2007-01-03    1 2007-01-04       2         1        1\n",
       "2 2007-01-03    1 2007-01-05       3         1        2\n",
       "3 2007-01-03    1 2007-01-08       4         1        3\n",
       "4 2007-01-03    1 2007-01-09       5         1        4"
      ]
     },
     "execution_count": 31,
     "metadata": {},
     "output_type": "execute_result"
    }
   ],
   "source": [
    "dates_0.head()"
   ]
  },
  {
   "cell_type": "code",
   "execution_count": 32,
   "metadata": {
    "collapsed": true
   },
   "outputs": [],
   "source": [
    "# Say we want windows of +/- 10 days, that means we want dates with event_t between -10 and 10\n",
    "dates_win = dates_0.loc[(dates_0.event_t >= -10) & (dates_0.event_t <= 10),\n",
    "                       ['date', 'date_obs', 'event_t']].copy()"
   ]
  },
  {
   "cell_type": "code",
   "execution_count": 33,
   "metadata": {
    "collapsed": false
   },
   "outputs": [],
   "source": [
    "# Now we can merge this with our event file. So for each event, we'll have a list of the daily observations\n",
    "# we want to merge.\n",
    "\n",
    "dividends_days = pd.merge(dividends_df, dates_win, \n",
    "                          left_on='exdt',\n",
    "                          right_on='date')"
   ]
  },
  {
   "cell_type": "code",
   "execution_count": 34,
   "metadata": {
    "collapsed": false
   },
   "outputs": [
    {
     "data": {
      "text/html": [
       "<div>\n",
       "<table border=\"1\" class=\"dataframe\">\n",
       "  <thead>\n",
       "    <tr style=\"text-align: right;\">\n",
       "      <th></th>\n",
       "      <th>permno</th>\n",
       "      <th>distcd</th>\n",
       "      <th>divamt</th>\n",
       "      <th>facpr</th>\n",
       "      <th>facshr</th>\n",
       "      <th>dclrdt</th>\n",
       "      <th>exdt</th>\n",
       "      <th>rcrddt</th>\n",
       "      <th>paydt</th>\n",
       "      <th>date</th>\n",
       "      <th>date_obs</th>\n",
       "      <th>event_t</th>\n",
       "    </tr>\n",
       "  </thead>\n",
       "  <tbody>\n",
       "    <tr>\n",
       "      <th>0</th>\n",
       "      <td>10001</td>\n",
       "      <td>1232.0</td>\n",
       "      <td>0.14</td>\n",
       "      <td>0.0</td>\n",
       "      <td>0.0</td>\n",
       "      <td>2006-12-04</td>\n",
       "      <td>2007-02-13</td>\n",
       "      <td>2007-02-15</td>\n",
       "      <td>2007-02-28</td>\n",
       "      <td>2007-02-13</td>\n",
       "      <td>2007-01-30</td>\n",
       "      <td>-10</td>\n",
       "    </tr>\n",
       "    <tr>\n",
       "      <th>1</th>\n",
       "      <td>10001</td>\n",
       "      <td>1232.0</td>\n",
       "      <td>0.14</td>\n",
       "      <td>0.0</td>\n",
       "      <td>0.0</td>\n",
       "      <td>2006-12-04</td>\n",
       "      <td>2007-02-13</td>\n",
       "      <td>2007-02-15</td>\n",
       "      <td>2007-02-28</td>\n",
       "      <td>2007-02-13</td>\n",
       "      <td>2007-01-31</td>\n",
       "      <td>-9</td>\n",
       "    </tr>\n",
       "    <tr>\n",
       "      <th>2</th>\n",
       "      <td>10001</td>\n",
       "      <td>1232.0</td>\n",
       "      <td>0.14</td>\n",
       "      <td>0.0</td>\n",
       "      <td>0.0</td>\n",
       "      <td>2006-12-04</td>\n",
       "      <td>2007-02-13</td>\n",
       "      <td>2007-02-15</td>\n",
       "      <td>2007-02-28</td>\n",
       "      <td>2007-02-13</td>\n",
       "      <td>2007-02-01</td>\n",
       "      <td>-8</td>\n",
       "    </tr>\n",
       "    <tr>\n",
       "      <th>3</th>\n",
       "      <td>10001</td>\n",
       "      <td>1232.0</td>\n",
       "      <td>0.14</td>\n",
       "      <td>0.0</td>\n",
       "      <td>0.0</td>\n",
       "      <td>2006-12-04</td>\n",
       "      <td>2007-02-13</td>\n",
       "      <td>2007-02-15</td>\n",
       "      <td>2007-02-28</td>\n",
       "      <td>2007-02-13</td>\n",
       "      <td>2007-02-02</td>\n",
       "      <td>-7</td>\n",
       "    </tr>\n",
       "    <tr>\n",
       "      <th>4</th>\n",
       "      <td>10001</td>\n",
       "      <td>1232.0</td>\n",
       "      <td>0.14</td>\n",
       "      <td>0.0</td>\n",
       "      <td>0.0</td>\n",
       "      <td>2006-12-04</td>\n",
       "      <td>2007-02-13</td>\n",
       "      <td>2007-02-15</td>\n",
       "      <td>2007-02-28</td>\n",
       "      <td>2007-02-13</td>\n",
       "      <td>2007-02-05</td>\n",
       "      <td>-6</td>\n",
       "    </tr>\n",
       "  </tbody>\n",
       "</table>\n",
       "</div>"
      ],
      "text/plain": [
       "   permno  distcd  divamt  facpr  facshr     dclrdt       exdt     rcrddt  \\\n",
       "0   10001  1232.0    0.14    0.0     0.0 2006-12-04 2007-02-13 2007-02-15   \n",
       "1   10001  1232.0    0.14    0.0     0.0 2006-12-04 2007-02-13 2007-02-15   \n",
       "2   10001  1232.0    0.14    0.0     0.0 2006-12-04 2007-02-13 2007-02-15   \n",
       "3   10001  1232.0    0.14    0.0     0.0 2006-12-04 2007-02-13 2007-02-15   \n",
       "4   10001  1232.0    0.14    0.0     0.0 2006-12-04 2007-02-13 2007-02-15   \n",
       "\n",
       "       paydt       date   date_obs  event_t  \n",
       "0 2007-02-28 2007-02-13 2007-01-30      -10  \n",
       "1 2007-02-28 2007-02-13 2007-01-31       -9  \n",
       "2 2007-02-28 2007-02-13 2007-02-01       -8  \n",
       "3 2007-02-28 2007-02-13 2007-02-02       -7  \n",
       "4 2007-02-28 2007-02-13 2007-02-05       -6  "
      ]
     },
     "execution_count": 34,
     "metadata": {},
     "output_type": "execute_result"
    }
   ],
   "source": [
    "dividends_days.head()"
   ]
  },
  {
   "cell_type": "code",
   "execution_count": 35,
   "metadata": {
    "collapsed": true
   },
   "outputs": [],
   "source": [
    "# Now let's merge on stock returns.\n",
    "merged_df = pd.merge(dividends_days, dsf_df,\n",
    "                     left_on=['permno', 'date_obs'],\n",
    "                     right_on=['permno', 'date'],\n",
    "                     suffixes=('', '_dsf'))"
   ]
  },
  {
   "cell_type": "code",
   "execution_count": 36,
   "metadata": {
    "collapsed": false
   },
   "outputs": [],
   "source": [
    "# Count the number of observations for each event. We drop those that are not complete\n",
    "# to make things easier.\n",
    "counts = merged_df.groupby(['permno', 'date'])[['date_obs']].count()"
   ]
  },
  {
   "cell_type": "code",
   "execution_count": 37,
   "metadata": {
    "collapsed": false
   },
   "outputs": [
    {
     "data": {
      "text/plain": [
       "518"
      ]
     },
     "execution_count": 37,
     "metadata": {},
     "output_type": "execute_result"
    }
   ],
   "source": [
    "sum(counts.date_obs < 21)"
   ]
  },
  {
   "cell_type": "code",
   "execution_count": 38,
   "metadata": {
    "collapsed": false
   },
   "outputs": [
    {
     "data": {
      "text/html": [
       "<div>\n",
       "<table border=\"1\" class=\"dataframe\">\n",
       "  <thead>\n",
       "    <tr style=\"text-align: right;\">\n",
       "      <th></th>\n",
       "      <th></th>\n",
       "      <th>date_obs</th>\n",
       "    </tr>\n",
       "    <tr>\n",
       "      <th>permno</th>\n",
       "      <th>date</th>\n",
       "      <th></th>\n",
       "    </tr>\n",
       "  </thead>\n",
       "  <tbody>\n",
       "    <tr>\n",
       "      <th rowspan=\"5\" valign=\"top\">10001</th>\n",
       "      <th>2007-02-13</th>\n",
       "      <td>21</td>\n",
       "    </tr>\n",
       "    <tr>\n",
       "      <th>2007-05-03</th>\n",
       "      <td>21</td>\n",
       "    </tr>\n",
       "    <tr>\n",
       "      <th>2007-09-07</th>\n",
       "      <td>21</td>\n",
       "    </tr>\n",
       "    <tr>\n",
       "      <th>2007-11-01</th>\n",
       "      <td>21</td>\n",
       "    </tr>\n",
       "    <tr>\n",
       "      <th>2007-12-06</th>\n",
       "      <td>21</td>\n",
       "    </tr>\n",
       "  </tbody>\n",
       "</table>\n",
       "</div>"
      ],
      "text/plain": [
       "                   date_obs\n",
       "permno date                \n",
       "10001  2007-02-13        21\n",
       "       2007-05-03        21\n",
       "       2007-09-07        21\n",
       "       2007-11-01        21\n",
       "       2007-12-06        21"
      ]
     },
     "execution_count": 38,
     "metadata": {},
     "output_type": "execute_result"
    }
   ],
   "source": [
    "counts[counts.date_obs == 21].head()"
   ]
  },
  {
   "cell_type": "code",
   "execution_count": 39,
   "metadata": {
    "collapsed": false
   },
   "outputs": [],
   "source": [
    "merged_df = pd.merge(merged_df,\n",
    "                     counts,\n",
    "                     left_on=['permno', 'date'],\n",
    "                     right_index=True)"
   ]
  },
  {
   "cell_type": "code",
   "execution_count": 40,
   "metadata": {
    "collapsed": false
   },
   "outputs": [],
   "source": [
    "# As usual, we care about cumulative returns,\n",
    "# and abnormal returns (market-adjusted).\n",
    "\n",
    "# A crude measure is the CAR (cumulated abnormal returns)\n",
    "# which is the cumulative sum of daily returns\n",
    "# minus daily market returns.\n",
    "\n",
    "merged_df['aret'] = merged_df['ret'] - merged_df['vwretd']\n",
    "merged_df['aretx'] = merged_df['retx'] - merged_df['vwretd']\n",
    "\n",
    "merged_df['caret'] = merged_df.groupby(['permno', 'date'])['aret'].cumsum()\n",
    "merged_df['caretx'] = merged_df.groupby(['permno', 'date'])['aretx'].cumsum()"
   ]
  },
  {
   "cell_type": "code",
   "execution_count": 41,
   "metadata": {
    "collapsed": false
   },
   "outputs": [
    {
     "data": {
      "text/plain": [
       "<matplotlib.axes._subplots.AxesSubplot at 0x146879150>"
      ]
     },
     "execution_count": 41,
     "metadata": {},
     "output_type": "execute_result"
    },
    {
     "data": {
      "image/png": "[encoded data removed]",
      "text/plain": [
       "<matplotlib.figure.Figure at 0x1123d4f50>"
      ]
     },
     "metadata": {},
     "output_type": "display_data"
    }
   ],
   "source": [
    "merged_df.groupby('event_t')['caret'].mean().plot()"
   ]
  },
  {
   "cell_type": "markdown",
   "metadata": {},
   "source": [
    "That's a nice plot, but it can be made better with labels, confidence intervals, and more.\n",
    "\n",
    "To add confidence intervals, we need to compute the standard errors around the mean, which are:\n",
    "\n",
    "$ se = \\frac{\\hat{\\sigma}}{\\sqrt{n}}$"
   ]
  },
  {
   "cell_type": "code",
   "execution_count": 42,
   "metadata": {
    "collapsed": false
   },
   "outputs": [
    {
     "data": {
      "image/png": "[encoded data removed]",
      "text/plain": [
       "<matplotlib.figure.Figure at 0x112292f90>"
      ]
     },
     "metadata": {},
     "output_type": "display_data"
    }
   ],
   "source": [
    "# Initialise the figure\n",
    "fig, axes = plt.subplots(1, 1, figsize=(8, 5), dpi=80)\n",
    "\n",
    "# Compute the mean, multiply by 100 to have in %\n",
    "mean = merged_df.groupby('event_t')['caret'].mean() * 100\n",
    "# Compute the standard error around the mean\n",
    "se = (merged_df.groupby('event_t')['caret'].std()\n",
    "      / np.sqrt(merged_df.groupby('event_t')['caret'].count())) * 100\n",
    "# We'll use 95\\% confidence intervals, so +/- 1.96 * se\n",
    "mean_p = mean + 1.96 * se\n",
    "mean_m = mean - 1.96 * se\n",
    "\n",
    "mean.plot(ax=axes, linestyle='-', linewidth=2, marker='s',\n",
    "          color='blue', alpha=1.0)\n",
    "mean_m.plot(ax=axes, linestyle=':', linewidth=1, marker=None,\n",
    "          color='blue', alpha=0.9)\n",
    "mean_p.plot(ax=axes, linestyle=':', linewidth=1, marker=None,\n",
    "          color='blue', alpha=0.9)\n",
    "axes.fill_between(mean_m.index, mean_m, mean_p, facecolor='blue', alpha=0.1)\n",
    "\n",
    "# Add vertical and horizontla lines at t= 0\n",
    "axes.axvline(x=0, color='k', linestyle='--', linewidth=0.5)\n",
    "axes.axhline(y=0, color='k', linestyle='--', linewidth=0.5)\n",
    "\n",
    "axes.set_ylabel('CAR (%)')\n",
    "axes.set_xlabel('Event day')\n",
    "axes.set_title('Mean CAR around ex-dividend date')\n",
    "\n",
    "\n",
    "#fig.tight_layout()\n",
    "fig.savefig('MeanCAR.pdf', dpi=1000)"
   ]
  },
  {
   "cell_type": "markdown",
   "metadata": {},
   "source": [
    "This is nice, but it would be great to reuse that code to plot all the variables of interest. Why not make it a function?"
   ]
  },
  {
   "cell_type": "code",
   "execution_count": 43,
   "metadata": {
    "collapsed": true
   },
   "outputs": [],
   "source": [
    "def plot_exdate(varname, xlabel, ylabel, title, fn, show_hline=True):\n",
    "    # Initialise the figure\n",
    "    fig, axes = plt.subplots(1, 1, figsize=(8, 5), dpi=80)\n",
    "\n",
    "    # Compute the mean, multiply by 100 to have in %\n",
    "    mean = merged_df.groupby('event_t')[varname].mean() * 100\n",
    "    # Compute the standard error around the mean\n",
    "    se = (merged_df.groupby('event_t')[varname].std()\n",
    "          / np.sqrt(merged_df.groupby('event_t')[varname].count())) * 100\n",
    "    # We'll use 95\\% confidence intervals, so +/- 1.96 * se\n",
    "    mean_p = mean + 1.96 * se\n",
    "    mean_m = mean - 1.96 * se\n",
    "\n",
    "    mean.plot(ax=axes, linestyle='-', linewidth=2, marker='s',\n",
    "              color='blue', alpha=1.0)\n",
    "    mean_m.plot(ax=axes, linestyle=':', linewidth=1, marker=None,\n",
    "              color='blue', alpha=0.9)\n",
    "    mean_p.plot(ax=axes, linestyle=':', linewidth=1, marker=None,\n",
    "              color='blue', alpha=0.9)\n",
    "    axes.fill_between(mean_m.index, mean_m, mean_p, facecolor='blue', alpha=0.1)\n",
    "\n",
    "    # Add vertical and horizontla lines at t= 0\n",
    "    axes.axvline(x=0, color='k', linestyle='--', linewidth=0.5)\n",
    "    if show_hline:\n",
    "        axes.axhline(y=0, color='k', linestyle='--', linewidth=0.5)\n",
    "\n",
    "    axes.set_ylabel(ylabel)\n",
    "    axes.set_xlabel(xlabel)\n",
    "    axes.set_title(title)\n",
    "\n",
    "\n",
    "    #fig.tight_layout()\n",
    "    fig.savefig(fn, dpi=1000)"
   ]
  },
  {
   "cell_type": "code",
   "execution_count": 44,
   "metadata": {
    "collapsed": false
   },
   "outputs": [
    {
     "data": {
      "image/png": "[encoded data removed]",
      "text/plain": [
       "<matplotlib.figure.Figure at 0x112978650>"
      ]
     },
     "metadata": {},
     "output_type": "display_data"
    }
   ],
   "source": [
    "plot_exdate('caret', 'Event day', 'CAR (%)', 'Mean CAR around ex-dividend date', 'MeanCAR.pdf')"
   ]
  },
  {
   "cell_type": "code",
   "execution_count": 45,
   "metadata": {
    "collapsed": false
   },
   "outputs": [
    {
     "data": {
      "image/png": "[encoded data removed]",
      "text/plain": [
       "<matplotlib.figure.Figure at 0x11426c7d0>"
      ]
     },
     "metadata": {},
     "output_type": "display_data"
    }
   ],
   "source": [
    "plot_exdate('vol', 'Event day', 'Volume', 'Mean volume around ex-dividend date',\n",
    "            'MeanVolume.pdf', show_hline=False)"
   ]
  },
  {
   "cell_type": "code",
   "execution_count": 46,
   "metadata": {
    "collapsed": false
   },
   "outputs": [
    {
     "data": {
      "image/png": "[encoded data removed]",
      "text/plain": [
       "<matplotlib.figure.Figure at 0x11444d9d0>"
      ]
     },
     "metadata": {},
     "output_type": "display_data"
    }
   ],
   "source": [
    "plot_exdate('caretx', 'Event day', 'CAR excl. div. (%)', 'Mean CAR, excl. div. around ex-dividend date', 'MeanCAR.pdf')"
   ]
  },
  {
   "cell_type": "code",
   "execution_count": null,
   "metadata": {
    "collapsed": true
   },
   "outputs": [],
   "source": []
  }
 ],
 "metadata": {
  "kernelspec": {
   "display_name": "Python 2",
   "language": "python",
   "name": "python2"
  },
  "language_info": {
   "codemirror_mode": {
    "name": "ipython",
    "version": 2
   },
   "file_extension": ".py",
   "mimetype": "text/x-python",
   "name": "python",
   "nbconvert_exporter": "python",
   "pygments_lexer": "ipython2",
   "version": "2.7.13"
  },
  "nikola": {
   "category": "",
   "date": "2017-03-24 16:49:39 UTC+11:00",
   "description": "",
   "link": "",
   "slug": "crsp-example-dividends",
   "tags": "",
   "title": "CRSP Example - Dividends",
   "type": "text"
  }
 },
 "nbformat": 4,
 "nbformat_minor": 2
}
